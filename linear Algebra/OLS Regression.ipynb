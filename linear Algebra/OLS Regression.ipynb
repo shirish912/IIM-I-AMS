{
 "cells": [
  {
   "cell_type": "code",
   "execution_count": null,
   "metadata": {
    "id": "psBRusD1vmTX"
   },
   "outputs": [],
   "source": [
    "# Linear Regression using Linear Algebra concepts\n",
    "\n",
    "# Objective: \"Best\" straight line fit to these data points\n",
    "# CLaim: The \"Best\" fit will have minimum Error = Y_hat - Y\n",
    "\n",
    "# Y_hat = w0 + x1.X\n",
    "# w0 = intercept term\n",
    "# w1 = slope of the best fit line\n",
    "\n",
    "# We'll be actually minimizing the SSE or MSE (Mean Squared Error)\n"
   ]
  },
  {
   "cell_type": "code",
   "execution_count": 1,
   "metadata": {
    "colab": {
     "base_uri": "https://localhost:8080/"
    },
    "id": "QjmbIhAE67HX",
    "outputId": "93fe2a32-28fa-461f-f9e6-88a71a181d5b"
   },
   "outputs": [
    {
     "name": "stdout",
     "output_type": "stream",
     "text": [
      " \n",
      "2.675 x + 2.875\n"
     ]
    }
   ],
   "source": [
    "import numpy as np\n",
    "\n",
    "# define your X and Y as NumPy Arrays\n",
    "X = np.array([1,3,5])\n",
    "Y = np.array([4.8,12.4,15.5])\n",
    "\n",
    "# np.polyfit function does a 1-dimensional Polynomial fitting\n",
    "# and the np.poly1d function convers the polynomial coefficents\n",
    "# into a polynomila object that can be evaluated\n",
    "p = np.poly1d(np.polyfit(X,Y,1))\n",
    "print(p)\n",
    "# [OUTPUT]:\n",
    "# 2.675 x + 2.875"
   ]
  },
  {
   "cell_type": "code",
   "execution_count": 13,
   "metadata": {
    "colab": {
     "base_uri": "https://localhost:8080/"
    },
    "id": "R2vvLCFo6-wY",
    "outputId": "8abb8edd-db1c-47b9-eeae-8b55676140b9"
   },
   "outputs": [
    {
     "data": {
      "text/plain": [
       "array([[1., 1.],\n",
       "       [1., 3.],\n",
       "       [1., 5.]])"
      ]
     },
     "execution_count": 13,
     "metadata": {},
     "output_type": "execute_result"
    }
   ],
   "source": [
    "X = np.array([1,3,5]).reshape(-1, 1)\n",
    "Y = np.array([4.8,12.4,15.5]).reshape(-1,1)\n",
    "\n",
    "ones = np.ones(X.shape[0]).reshape(-1,1)\n",
    "\n",
    "X_new = np.hstack([ones, X])\n",
    "X_new"
   ]
  },
  {
   "cell_type": "code",
   "execution_count": 9,
   "metadata": {
    "colab": {
     "base_uri": "https://localhost:8080/"
    },
    "id": "ctpbjbMV-CQa",
    "outputId": "03115160-e032-4644-b50c-2859567afa59"
   },
   "outputs": [
    {
     "data": {
      "text/plain": [
       "array([[ 3.,  9.],\n",
       "       [ 9., 35.]])"
      ]
     },
     "execution_count": 9,
     "metadata": {},
     "output_type": "execute_result"
    }
   ],
   "source": [
    "# np.matmul(X_new.T, X_new)\n",
    "X_new.T.dot(X_new)"
   ]
  },
  {
   "cell_type": "code",
   "execution_count": 10,
   "metadata": {
    "colab": {
     "base_uri": "https://localhost:8080/"
    },
    "id": "Eex_aTLq-0Sv",
    "outputId": "598b7298-16c8-4539-9f68-23cd0d36a9ee"
   },
   "outputs": [
    {
     "data": {
      "text/plain": [
       "array([[ 1.45833333, -0.375     ],\n",
       "       [-0.375     ,  0.125     ]])"
      ]
     },
     "execution_count": 10,
     "metadata": {},
     "output_type": "execute_result"
    }
   ],
   "source": [
    "np.linalg.inv(X_new.T.dot(X_new))"
   ]
  },
  {
   "cell_type": "code",
   "execution_count": 11,
   "metadata": {
    "colab": {
     "base_uri": "https://localhost:8080/"
    },
    "id": "p1EhMdSe-gd4",
    "outputId": "83b0bf28-f07b-4001-d59f-6093a45b57ab"
   },
   "outputs": [
    {
     "data": {
      "text/plain": [
       "array([[ 1.08333333e+00,  3.33333333e-01, -4.16666667e-01],\n",
       "       [-2.50000000e-01, -2.77555756e-17,  2.50000000e-01]])"
      ]
     },
     "execution_count": 11,
     "metadata": {},
     "output_type": "execute_result"
    }
   ],
   "source": [
    "np.linalg.inv(X_new.T.dot(X_new)).dot(X_new.T)"
   ]
  },
  {
   "cell_type": "code",
   "execution_count": 12,
   "metadata": {
    "colab": {
     "base_uri": "https://localhost:8080/"
    },
    "id": "L7pDq7Pu-8k6",
    "outputId": "f6894ca1-f3e5-414f-f98e-b5a91c9f4c39"
   },
   "outputs": [
    {
     "data": {
      "text/plain": [
       "array([[2.875],\n",
       "       [2.675]])"
      ]
     },
     "execution_count": 12,
     "metadata": {},
     "output_type": "execute_result"
    }
   ],
   "source": [
    "# Final Solution\n",
    "np.linalg.inv(X_new.T.dot(X_new)).dot(X_new.T).dot(Y)"
   ]
  },
  {
   "cell_type": "code",
   "execution_count": 14,
   "metadata": {
    "colab": {
     "base_uri": "https://localhost:8080/"
    },
    "id": "EVSqB6z6_m8b",
    "outputId": "b7a876d2-e3d3-4d3f-ccc9-a344b79693b7"
   },
   "outputs": [
    {
     "data": {
      "text/plain": [
       "array([[3.41428571]])"
      ]
     },
     "execution_count": 14,
     "metadata": {},
     "output_type": "execute_result"
    }
   ],
   "source": [
    "np.linalg.inv(X.T.dot(X)).dot(X.T).dot(Y)"
   ]
  }
 ],
 "metadata": {
  "colab": {
   "provenance": []
  },
  "kernelspec": {
   "display_name": "Python 3 (ipykernel)",
   "language": "python",
   "name": "python3"
  },
  "language_info": {
   "codemirror_mode": {
    "name": "ipython",
    "version": 3
   },
   "file_extension": ".py",
   "mimetype": "text/x-python",
   "name": "python",
   "nbconvert_exporter": "python",
   "pygments_lexer": "ipython3",
   "version": "3.11.5"
  }
 },
 "nbformat": 4,
 "nbformat_minor": 1
}
