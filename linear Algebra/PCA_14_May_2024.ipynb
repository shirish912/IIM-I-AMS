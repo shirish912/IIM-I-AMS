{
 "cells": [
  {
   "cell_type": "markdown",
   "metadata": {
    "id": "JXBGYmKldjY1"
   },
   "source": [
    "# PCA from scratch"
   ]
  },
  {
   "cell_type": "markdown",
   "metadata": {},
   "source": [
    "Anomaly detection using PCA reconstruction error involves the following steps:\n",
    "\n",
    "1. **Standardize the Data**:\n",
    "   $$\n",
    "   X_{\\text{standardized}} = \\frac{X - \\mu}{\\sigma}\n",
    "   $$\n",
    "   where $ X $ is the original data matrix, $ \\mu $ is the mean of each feature, and $ \\sigma $ is the standard deviation of each feature.\n",
    "\n",
    "2. **Compute the Covariance Matrix**:\n",
    "   $$\n",
    "   C = \\frac{1}{n} X_{\\text{standardized}}^T X_{\\text{standardized}}\n",
    "   $$\n",
    "   where $ n $ is the number of samples.\n",
    "\n",
    "3. **Compute the Eigenvalues and Eigenvectors of the Covariance Matrix**:\n",
    "   $$\n",
    "   \\text{eigvals}, \\text{eigvecs} = \\text{np.linalg.eigh}(C)\n",
    "   $$\n",
    "\n",
    "4. **Sort the Eigenvalues and Corresponding Eigenvectors**:\n",
    "   $$\n",
    "   \\text{sorted\\_indices} = \\text{np.argsort}(\\text{eigvals})[::-1]\n",
    "   $$\n",
    "   $$\n",
    "   \\text{eigvals} = \\text{eigvals}[\\text{sorted\\_indices}]\n",
    "   $$\n",
    "   $$\n",
    "   \\text{eigvecs} = \\text{eigvecs}[:, \\text{sorted\\_indices}]\n",
    "   $$\n",
    "\n",
    "5. **Select the Top $ k $ Eigenvectors (Principal Components)**:\n",
    "   $$\n",
    "   W_k = \\text{eigvecs}[:, :k]\n",
    "   $$\n",
    "\n",
    "6. **Transform the Data to the New Subspace**:\n",
    "   $$\n",
    "   X_pca = X_{\\text{standardized}} W_k\n",
    "   $$\n"
   ]
  },
  {
   "cell_type": "code",
   "execution_count": null,
   "metadata": {},
   "outputs": [],
   "source": []
  },
  {
   "cell_type": "code",
   "execution_count": 29,
   "metadata": {
    "id": "f_n_KQeCdidO"
   },
   "outputs": [],
   "source": [
    "from sklearn.datasets import load_iris\n",
    "import numpy as np"
   ]
  },
  {
   "cell_type": "code",
   "execution_count": 30,
   "metadata": {
    "id": "RbbgvKQodv6K"
   },
   "outputs": [],
   "source": [
    "data = load_iris()  # fucntion to load the iris dataset"
   ]
  },
  {
   "cell_type": "code",
   "execution_count": 31,
   "metadata": {
    "colab": {
     "base_uri": "https://localhost:8080/"
    },
    "id": "F03wTnqTdyDN",
    "outputId": "ceac0d88-c49c-450c-adb1-1e599a52c811"
   },
   "outputs": [
    {
     "data": {
      "text/plain": [
       "dict_keys(['data', 'target', 'frame', 'target_names', 'DESCR', 'feature_names', 'filename', 'data_module'])"
      ]
     },
     "execution_count": 31,
     "metadata": {},
     "output_type": "execute_result"
    }
   ],
   "source": [
    "data.keys()"
   ]
  },
  {
   "cell_type": "code",
   "execution_count": 32,
   "metadata": {
    "colab": {
     "base_uri": "https://localhost:8080/"
    },
    "id": "GnPCH1V0eJf1",
    "outputId": "47def051-571d-4fac-c437-7dd67b986602"
   },
   "outputs": [
    {
     "name": "stdout",
     "output_type": "stream",
     "text": [
      "['sepal length (cm)', 'sepal width (cm)', 'petal length (cm)', 'petal width (cm)']\n"
     ]
    }
   ],
   "source": [
    "X = data['data']  # Feature set\n",
    "y = data['target']  # target variable\n",
    "print(data['feature_names'])"
   ]
  },
  {
   "cell_type": "code",
   "execution_count": 33,
   "metadata": {
    "colab": {
     "base_uri": "https://localhost:8080/"
    },
    "id": "NL5_g_eieWdk",
    "outputId": "8f1d6426-c857-4d5f-e3e3-11e7b9af04e1"
   },
   "outputs": [
    {
     "data": {
      "text/plain": [
       "array([[5.1, 3.5, 1.4, 0.2],\n",
       "       [4.9, 3. , 1.4, 0.2],\n",
       "       [4.7, 3.2, 1.3, 0.2],\n",
       "       [4.6, 3.1, 1.5, 0.2],\n",
       "       [5. , 3.6, 1.4, 0.2]])"
      ]
     },
     "execution_count": 33,
     "metadata": {},
     "output_type": "execute_result"
    }
   ],
   "source": [
    "X[:5]   # print the 1st 5 rows of X"
   ]
  },
  {
   "cell_type": "code",
   "execution_count": 34,
   "metadata": {
    "colab": {
     "base_uri": "https://localhost:8080/"
    },
    "id": "W04lwf5ne5Ha",
    "outputId": "e689149d-635d-4e34-86a5-8516ef10c936"
   },
   "outputs": [
    {
     "data": {
      "text/plain": [
       "2"
      ]
     },
     "execution_count": 34,
     "metadata": {},
     "output_type": "execute_result"
    }
   ],
   "source": [
    "X.ndim   # 2D numpy array"
   ]
  },
  {
   "cell_type": "code",
   "execution_count": 35,
   "metadata": {
    "colab": {
     "base_uri": "https://localhost:8080/"
    },
    "id": "clCdYFcFexLq",
    "outputId": "66c0a679-b970-4f63-f0ad-67cdb46c5cce"
   },
   "outputs": [
    {
     "data": {
      "text/plain": [
       "(150, 4)"
      ]
     },
     "execution_count": 35,
     "metadata": {},
     "output_type": "execute_result"
    }
   ],
   "source": [
    "X.shape  # 150 records or samples, and 4 features/attributes"
   ]
  },
  {
   "cell_type": "code",
   "execution_count": 36,
   "metadata": {
    "colab": {
     "base_uri": "https://localhost:8080/"
    },
    "id": "cAjdDMPud0at",
    "outputId": "03b28bb2-c212-4702-c199-7e55710acb05"
   },
   "outputs": [
    {
     "name": "stdout",
     "output_type": "stream",
     "text": [
      ".. _iris_dataset:\n",
      "\n",
      "Iris plants dataset\n",
      "--------------------\n",
      "\n",
      "**Data Set Characteristics:**\n",
      "\n",
      "    :Number of Instances: 150 (50 in each of three classes)\n",
      "    :Number of Attributes: 4 numeric, predictive attributes and the class\n",
      "    :Attribute Information:\n",
      "        - sepal length in cm\n",
      "        - sepal width in cm\n",
      "        - petal length in cm\n",
      "        - petal width in cm\n",
      "        - class:\n",
      "                - Iris-Setosa\n",
      "                - Iris-Versicolour\n",
      "                - Iris-Virginica\n",
      "                \n",
      "    :Summary Statistics:\n",
      "\n",
      "    ============== ==== ==== ======= ===== ====================\n",
      "                    Min  Max   Mean    SD   Class Correlation\n",
      "    ============== ==== ==== ======= ===== ====================\n",
      "    sepal length:   4.3  7.9   5.84   0.83    0.7826\n",
      "    sepal width:    2.0  4.4   3.05   0.43   -0.4194\n",
      "    petal length:   1.0  6.9   3.76   1.76    0.9490  (high!)\n",
      "    petal width:    0.1  2.5   1.20   0.76    0.9565  (high!)\n",
      "    ============== ==== ==== ======= ===== ====================\n",
      "\n",
      "    :Missing Attribute Values: None\n",
      "    :Class Distribution: 33.3% for each of 3 classes.\n",
      "    :Creator: R.A. Fisher\n",
      "    :Donor: Michael Marshall (MARSHALL%PLU@io.arc.nasa.gov)\n",
      "    :Date: July, 1988\n",
      "\n",
      "The famous Iris database, first used by Sir R.A. Fisher. The dataset is taken\n",
      "from Fisher's paper. Note that it's the same as in R, but not as in the UCI\n",
      "Machine Learning Repository, which has two wrong data points.\n",
      "\n",
      "This is perhaps the best known database to be found in the\n",
      "pattern recognition literature.  Fisher's paper is a classic in the field and\n",
      "is referenced frequently to this day.  (See Duda & Hart, for example.)  The\n",
      "data set contains 3 classes of 50 instances each, where each class refers to a\n",
      "type of iris plant.  One class is linearly separable from the other 2; the\n",
      "latter are NOT linearly separable from each other.\n",
      "\n",
      ".. topic:: References\n",
      "\n",
      "   - Fisher, R.A. \"The use of multiple measurements in taxonomic problems\"\n",
      "     Annual Eugenics, 7, Part II, 179-188 (1936); also in \"Contributions to\n",
      "     Mathematical Statistics\" (John Wiley, NY, 1950).\n",
      "   - Duda, R.O., & Hart, P.E. (1973) Pattern Classification and Scene Analysis.\n",
      "     (Q327.D83) John Wiley & Sons.  ISBN 0-471-22361-1.  See page 218.\n",
      "   - Dasarathy, B.V. (1980) \"Nosing Around the Neighborhood: A New System\n",
      "     Structure and Classification Rule for Recognition in Partially Exposed\n",
      "     Environments\".  IEEE Transactions on Pattern Analysis and Machine\n",
      "     Intelligence, Vol. PAMI-2, No. 1, 67-71.\n",
      "   - Gates, G.W. (1972) \"The Reduced Nearest Neighbor Rule\".  IEEE Transactions\n",
      "     on Information Theory, May 1972, 431-433.\n",
      "   - See also: 1988 MLC Proceedings, 54-64.  Cheeseman et al\"s AUTOCLASS II\n",
      "     conceptual clustering system finds 3 classes in the data.\n",
      "   - Many, many more ...\n"
     ]
    }
   ],
   "source": [
    "print(data['DESCR'])"
   ]
  },
  {
   "cell_type": "code",
   "execution_count": 37,
   "metadata": {
    "colab": {
     "base_uri": "https://localhost:8080/"
    },
    "id": "ZDyQp8f6fjJT",
    "outputId": "f7252de0-55ce-454d-8e16-e6970d0adc25"
   },
   "outputs": [
    {
     "data": {
      "text/plain": [
       "array([[5.1, 3.5, 1.4, 0.2],\n",
       "       [4.9, 3. , 1.4, 0.2],\n",
       "       [4.7, 3.2, 1.3, 0.2],\n",
       "       [4.6, 3.1, 1.5, 0.2],\n",
       "       [5. , 3.6, 1.4, 0.2]])"
      ]
     },
     "execution_count": 37,
     "metadata": {},
     "output_type": "execute_result"
    }
   ],
   "source": [
    "X[:5]"
   ]
  },
  {
   "cell_type": "code",
   "execution_count": 38,
   "metadata": {
    "colab": {
     "base_uri": "https://localhost:8080/"
    },
    "id": "OcqGhSSkfmLN",
    "outputId": "de4d040e-13b0-45ad-abe5-40a141a6a152"
   },
   "outputs": [
    {
     "data": {
      "text/plain": [
       "(array([0, 0, 0, 0, 0]), array([1, 1, 1, 1]), array([2, 2, 2, 2]))"
      ]
     },
     "execution_count": 38,
     "metadata": {},
     "output_type": "execute_result"
    }
   ],
   "source": [
    "y[:5], y[51:55], y[101:105]"
   ]
  },
  {
   "cell_type": "code",
   "execution_count": 39,
   "metadata": {
    "id": "vcHm9FcDfnYK"
   },
   "outputs": [],
   "source": [
    "# Step 1: Standardise the data\n",
    "from sklearn.preprocessing import StandardScaler"
   ]
  },
  {
   "cell_type": "code",
   "execution_count": 40,
   "metadata": {
    "colab": {
     "base_uri": "https://localhost:8080/"
    },
    "id": "xWl644Bih48T",
    "outputId": "7eb452f9-f5f7-4a85-e926-a4fd186ef843"
   },
   "outputs": [
    {
     "data": {
      "text/plain": [
       "array([5.84333333, 3.05733333, 3.758     , 1.19933333])"
      ]
     },
     "execution_count": 40,
     "metadata": {},
     "output_type": "execute_result"
    }
   ],
   "source": [
    "X.mean(axis=0)"
   ]
  },
  {
   "cell_type": "code",
   "execution_count": 41,
   "metadata": {
    "colab": {
     "base_uri": "https://localhost:8080/"
    },
    "id": "FXCckf53iNCw",
    "outputId": "44671934-55fd-4eb7-9f96-b3846df57dcd"
   },
   "outputs": [
    {
     "data": {
      "text/plain": [
       "array([0.82530129, 0.43441097, 1.75940407, 0.75969263])"
      ]
     },
     "execution_count": 41,
     "metadata": {},
     "output_type": "execute_result"
    }
   ],
   "source": [
    "X.std(axis=0)"
   ]
  },
  {
   "cell_type": "code",
   "execution_count": 42,
   "metadata": {
    "colab": {
     "base_uri": "https://localhost:8080/"
    },
    "id": "LEjvf2eXghyk",
    "outputId": "fc7cb9d8-b592-4738-f1f7-286994317931"
   },
   "outputs": [
    {
     "data": {
      "text/plain": [
       "(150, 4)"
      ]
     },
     "execution_count": 42,
     "metadata": {},
     "output_type": "execute_result"
    }
   ],
   "source": [
    "SC = StandardScaler()  # create instance of the Stnadardsclaer class\n",
    "X_std = SC.fit_transform(X)\n",
    "X_std.shape\n",
    "\n",
    "# X_std = (X - np.mean(X, axis=0)) / np.std(X, axis=0)"
   ]
  },
  {
   "cell_type": "code",
   "execution_count": 43,
   "metadata": {
    "colab": {
     "base_uri": "https://localhost:8080/"
    },
    "id": "rhfMKJFHgykh",
    "outputId": "dfe3c5fe-f032-4aec-8db8-804b90a65066"
   },
   "outputs": [
    {
     "name": "stdout",
     "output_type": "stream",
     "text": [
      "[[-0.90068117  1.01900435 -1.34022653 -1.3154443 ]\n",
      " [-1.14301691 -0.13197948 -1.34022653 -1.3154443 ]\n",
      " [-1.38535265  0.32841405 -1.39706395 -1.3154443 ]\n",
      " [-1.50652052  0.09821729 -1.2833891  -1.3154443 ]\n",
      " [-1.02184904  1.24920112 -1.34022653 -1.3154443 ]]\n"
     ]
    }
   ],
   "source": [
    "print(X_std[:5])"
   ]
  },
  {
   "cell_type": "code",
   "execution_count": 44,
   "metadata": {
    "colab": {
     "base_uri": "https://localhost:8080/"
    },
    "id": "_UxJOwCghU1g",
    "outputId": "991b270b-3cb8-4604-fa43-265a9781bb6b"
   },
   "outputs": [
    {
     "data": {
      "text/plain": [
       "(4, 4)"
      ]
     },
     "execution_count": 44,
     "metadata": {},
     "output_type": "execute_result"
    }
   ],
   "source": [
    "# Step 2: Find the coaviance matrix\n",
    "cov_mat = np.cov(X_std.T)\n",
    "cov_mat.shape"
   ]
  },
  {
   "cell_type": "code",
   "execution_count": 45,
   "metadata": {
    "colab": {
     "base_uri": "https://localhost:8080/"
    },
    "id": "9LdMrUnjhxkg",
    "outputId": "13f276fe-c4ae-47f8-baee-924bd1e80f37"
   },
   "outputs": [
    {
     "data": {
      "text/plain": [
       "array([[ 1.00671141, -0.11835884,  0.87760447,  0.82343066],\n",
       "       [-0.11835884,  1.00671141, -0.43131554, -0.36858315],\n",
       "       [ 0.87760447, -0.43131554,  1.00671141,  0.96932762],\n",
       "       [ 0.82343066, -0.36858315,  0.96932762,  1.00671141]])"
      ]
     },
     "execution_count": 45,
     "metadata": {},
     "output_type": "execute_result"
    }
   ],
   "source": [
    "cov_mat"
   ]
  },
  {
   "cell_type": "code",
   "execution_count": 46,
   "metadata": {},
   "outputs": [
    {
     "data": {
      "text/plain": [
       "array([[ 1.00671141, -0.11835884,  0.87760447,  0.82343066],\n",
       "       [-0.11835884,  1.00671141, -0.43131554, -0.36858315],\n",
       "       [ 0.87760447, -0.43131554,  1.00671141,  0.96932762],\n",
       "       [ 0.82343066, -0.36858315,  0.96932762,  1.00671141]])"
      ]
     },
     "execution_count": 46,
     "metadata": {},
     "output_type": "execute_result"
    }
   ],
   "source": [
    "X_std.T.dot(X_std)/(len(X_std)-1)"
   ]
  },
  {
   "cell_type": "code",
   "execution_count": 47,
   "metadata": {},
   "outputs": [
    {
     "data": {
      "text/plain": [
       "149"
      ]
     },
     "execution_count": 47,
     "metadata": {},
     "output_type": "execute_result"
    }
   ],
   "source": [
    "len(X_std)-1"
   ]
  },
  {
   "cell_type": "code",
   "execution_count": 48,
   "metadata": {
    "id": "qBunNVlridWw"
   },
   "outputs": [],
   "source": [
    "# Step 3: find the eig values and eig vectors of this cov matrix\n",
    "eig_val, eig_vect = np.linalg.eig(cov_mat)"
   ]
  },
  {
   "cell_type": "code",
   "execution_count": 49,
   "metadata": {
    "colab": {
     "base_uri": "https://localhost:8080/"
    },
    "id": "EPOEdHyniqzc",
    "outputId": "f2b9afef-3691-4df0-d259-2639ae5aaa3e"
   },
   "outputs": [
    {
     "data": {
      "text/plain": [
       "array([2.93808505, 0.9201649 , 0.14774182, 0.02085386])"
      ]
     },
     "execution_count": 49,
     "metadata": {},
     "output_type": "execute_result"
    }
   ],
   "source": [
    "eig_val"
   ]
  },
  {
   "cell_type": "code",
   "execution_count": 50,
   "metadata": {
    "colab": {
     "base_uri": "https://localhost:8080/"
    },
    "id": "8vgENKqlk-am",
    "outputId": "15648dcd-e2db-4c8d-8eb1-1eab1890476f"
   },
   "outputs": [
    {
     "data": {
      "text/plain": [
       "array([0.72962445, 0.22850762, 0.03668922, 0.00517871])"
      ]
     },
     "execution_count": 50,
     "metadata": {},
     "output_type": "execute_result"
    }
   ],
   "source": [
    "explained_variance_ratio = eig_val/sum(eig_val)\n",
    "explained_variance_ratio"
   ]
  },
  {
   "cell_type": "code",
   "execution_count": 51,
   "metadata": {
    "colab": {
     "base_uri": "https://localhost:8080/"
    },
    "id": "QGcQoJ7ZlWvH",
    "outputId": "86d59a1d-6cfa-45b0-fcb9-d9537980adf4"
   },
   "outputs": [
    {
     "data": {
      "text/plain": [
       "array([0.72962445, 0.95813207, 0.99482129, 1.        ])"
      ]
     },
     "execution_count": 51,
     "metadata": {},
     "output_type": "execute_result"
    }
   ],
   "source": [
    "np.cumsum(explained_variance_ratio)"
   ]
  },
  {
   "cell_type": "code",
   "execution_count": 52,
   "metadata": {
    "colab": {
     "base_uri": "https://localhost:8080/"
    },
    "id": "wHZ7mHkTivBl",
    "outputId": "389aa699-4207-4dac-bdf3-c70d4883f921"
   },
   "outputs": [
    {
     "data": {
      "text/plain": [
       "array([[ 0.52106591, -0.37741762, -0.71956635,  0.26128628],\n",
       "       [-0.26934744, -0.92329566,  0.24438178, -0.12350962],\n",
       "       [ 0.5804131 , -0.02449161,  0.14212637, -0.80144925],\n",
       "       [ 0.56485654, -0.06694199,  0.63427274,  0.52359713]])"
      ]
     },
     "execution_count": 52,
     "metadata": {},
     "output_type": "execute_result"
    }
   ],
   "source": [
    "eig_vect"
   ]
  },
  {
   "cell_type": "code",
   "execution_count": 53,
   "metadata": {
    "colab": {
     "base_uri": "https://localhost:8080/"
    },
    "id": "2nbzJGVhjEHO",
    "outputId": "bc6b00a1-ebc1-4941-94fb-6f95d4b19384"
   },
   "outputs": [
    {
     "data": {
      "text/plain": [
       "array([ 0.52106591, -0.37741762, -0.71956635,  0.26128628])"
      ]
     },
     "execution_count": 53,
     "metadata": {},
     "output_type": "execute_result"
    }
   ],
   "source": [
    "eig_vect[0,:]  # extract the 1st eig vect"
   ]
  },
  {
   "cell_type": "code",
   "execution_count": 54,
   "metadata": {
    "id": "_hTNZd8pjL2q"
   },
   "outputs": [],
   "source": [
    "PC1 = eig_vect[0,:]"
   ]
  },
  {
   "cell_type": "code",
   "execution_count": 55,
   "metadata": {
    "colab": {
     "base_uri": "https://localhost:8080/"
    },
    "id": "6JNtbfEYjIFn",
    "outputId": "0ebafdb7-639b-4dcc-d469-bf5ce06d81fe"
   },
   "outputs": [
    {
     "data": {
      "text/plain": [
       "array([[ 0.52106591],\n",
       "       [-0.37741762],\n",
       "       [-0.71956635],\n",
       "       [ 0.26128628]])"
      ]
     },
     "execution_count": 55,
     "metadata": {},
     "output_type": "execute_result"
    }
   ],
   "source": [
    "# Step 4: Construct the transformer matrix (W)\n",
    "W = PC1.T\n",
    "W = W.reshape(-1, 1)\n",
    "W"
   ]
  },
  {
   "cell_type": "code",
   "execution_count": 56,
   "metadata": {
    "colab": {
     "base_uri": "https://localhost:8080/"
    },
    "id": "FAJHH2yWjvsH",
    "outputId": "53c88d90-6d27-4596-ac67-fc3130dad1c9"
   },
   "outputs": [
    {
     "data": {
      "text/plain": [
       "array([[ 0.52106591],\n",
       "       [-0.37741762],\n",
       "       [-0.71956635],\n",
       "       [ 0.26128628]])"
      ]
     },
     "execution_count": 56,
     "metadata": {},
     "output_type": "execute_result"
    }
   ],
   "source": [
    "W"
   ]
  },
  {
   "cell_type": "code",
   "execution_count": 57,
   "metadata": {
    "colab": {
     "base_uri": "https://localhost:8080/"
    },
    "id": "NK9nIscfkR43",
    "outputId": "1ad88261-ced2-4176-9899-26dadf6f95f2"
   },
   "outputs": [
    {
     "data": {
      "text/plain": [
       "array([[ 0.52106591, -0.26934744],\n",
       "       [-0.37741762, -0.92329566],\n",
       "       [-0.71956635,  0.24438178],\n",
       "       [ 0.26128628, -0.12350962]])"
      ]
     },
     "execution_count": 57,
     "metadata": {},
     "output_type": "execute_result"
    }
   ],
   "source": [
    "# Selecting the top 2 principal components\n",
    "W = np.hstack([eig_vect[0,:].reshape(-1,1), eig_vect[1,:].reshape(-1,1)  ])\n",
    "W"
   ]
  },
  {
   "cell_type": "code",
   "execution_count": 58,
   "metadata": {
    "colab": {
     "base_uri": "https://localhost:8080/"
    },
    "id": "t0NdWeElkg43",
    "outputId": "1aa7987c-f725-4ec3-dc8f-7a5356359628"
   },
   "outputs": [
    {
     "data": {
      "text/plain": [
       "(150, 2)"
      ]
     },
     "execution_count": 58,
     "metadata": {},
     "output_type": "execute_result"
    }
   ],
   "source": [
    "# Step 5: Transformation step / Projection step\n",
    "X_pca = X_std.dot(W)\n",
    "X_pca.shape"
   ]
  },
  {
   "cell_type": "code",
   "execution_count": 59,
   "metadata": {
    "colab": {
     "base_uri": "https://localhost:8080/"
    },
    "id": "4E7cKtMaoGDn",
    "outputId": "18aeab93-ce52-4377-c64a-14fcb22d6bfd"
   },
   "outputs": [
    {
     "data": {
      "text/plain": [
       "array([[-0.23323008, -0.86330304],\n",
       "       [ 0.0748986 ,  0.26466784],\n",
       "       [-0.18423663, -0.10902903],\n",
       "       [-0.24228936,  0.16392697],\n",
       "       [-0.38324685, -1.04320646]])"
      ]
     },
     "execution_count": 59,
     "metadata": {},
     "output_type": "execute_result"
    }
   ],
   "source": [
    "X_pca[:5]"
   ]
  },
  {
   "cell_type": "code",
   "execution_count": 63,
   "metadata": {},
   "outputs": [
    {
     "data": {
      "text/plain": [
       "array([[ 2.26470281,  0.4800266 ],\n",
       "       [ 2.08096115, -0.67413356],\n",
       "       [ 2.36422905, -0.34190802],\n",
       "       [ 2.29938422, -0.59739451],\n",
       "       [ 2.38984217,  0.64683538],\n",
       "       [ 2.07563095,  1.48917752],\n",
       "       [ 2.44402884,  0.0476442 ],\n",
       "       [ 2.23284716,  0.22314807],\n",
       "       [ 2.33464048, -1.11532768],\n",
       "       [ 2.18432817, -0.46901356],\n",
       "       [ 2.1663101 ,  1.04369065],\n",
       "       [ 2.32613087,  0.13307834],\n",
       "       [ 2.2184509 , -0.72867617],\n",
       "       [ 2.6331007 , -0.96150673],\n",
       "       [ 2.1987406 ,  1.86005711],\n",
       "       [ 2.26221453,  2.68628449],\n",
       "       [ 2.2075877 ,  1.48360936],\n",
       "       [ 2.19034951,  0.48883832],\n",
       "       [ 1.898572  ,  1.40501879],\n",
       "       [ 2.34336905,  1.12784938],\n",
       "       [ 1.914323  ,  0.40885571],\n",
       "       [ 2.20701284,  0.92412143],\n",
       "       [ 2.7743447 ,  0.45834367],\n",
       "       [ 1.81866953,  0.08555853],\n",
       "       [ 2.22716331,  0.13725446],\n",
       "       [ 1.95184633, -0.62561859],\n",
       "       [ 2.05115137,  0.24216355],\n",
       "       [ 2.16857717,  0.52714953],\n",
       "       [ 2.13956345,  0.31321781],\n",
       "       [ 2.26526149, -0.3377319 ],\n",
       "       [ 2.14012214, -0.50454069],\n",
       "       [ 1.83159477,  0.42369507],\n",
       "       [ 2.61494794,  1.79357586],\n",
       "       [ 2.44617739,  2.15072788],\n",
       "       [ 2.10997488, -0.46020184],\n",
       "       [ 2.2078089 , -0.2061074 ],\n",
       "       [ 2.04514621,  0.66155811],\n",
       "       [ 2.52733191,  0.59229277],\n",
       "       [ 2.42963258, -0.90418004],\n",
       "       [ 2.16971071,  0.26887896],\n",
       "       [ 2.28647514,  0.44171539],\n",
       "       [ 1.85812246, -2.33741516],\n",
       "       [ 2.5536384 , -0.47910069],\n",
       "       [ 1.96444768,  0.47232667],\n",
       "       [ 2.13705901,  1.14222926],\n",
       "       [ 2.0697443 , -0.71105273],\n",
       "       [ 2.38473317,  1.1204297 ],\n",
       "       [ 2.39437631, -0.38624687],\n",
       "       [ 2.22944655,  0.99795976],\n",
       "       [ 2.20383344,  0.00921636],\n",
       "       [-1.10178118,  0.86297242],\n",
       "       [-0.73133743,  0.59461473],\n",
       "       [-1.24097932,  0.61629765],\n",
       "       [-0.40748306, -1.75440399],\n",
       "       [-1.0754747 , -0.20842105],\n",
       "       [-0.38868734, -0.59328364],\n",
       "       [-0.74652974,  0.77301931],\n",
       "       [ 0.48732274, -1.85242909],\n",
       "       [-0.92790164,  0.03222608],\n",
       "       [-0.01142619, -1.03401828],\n",
       "       [ 0.11019628, -2.65407282],\n",
       "       [-0.44069345, -0.06329519],\n",
       "       [-0.56210831, -1.76472438],\n",
       "       [-0.71956189, -0.18622461],\n",
       "       [ 0.0333547 , -0.43900321],\n",
       "       [-0.87540719,  0.50906396],\n",
       "       [-0.35025167, -0.19631173],\n",
       "       [-0.15881005, -0.79209574],\n",
       "       [-1.22509363, -1.6222438 ],\n",
       "       [-0.1649179 , -1.30260923],\n",
       "       [-0.73768265,  0.39657156],\n",
       "       [-0.47628719, -0.41732028],\n",
       "       [-1.2341781 , -0.93332573],\n",
       "       [-0.6328582 , -0.41638772],\n",
       "       [-0.70266118, -0.06341182],\n",
       "       [-0.87427365,  0.25079339],\n",
       "       [-1.25650912, -0.07725602],\n",
       "       [-1.35840512,  0.33131168],\n",
       "       [-0.66480037, -0.22592785],\n",
       "       [ 0.04025861, -1.05871855],\n",
       "       [-0.13079518, -1.56227183],\n",
       "       [-0.02345269, -1.57247559],\n",
       "       [-0.24153827, -0.77725638],\n",
       "       [-1.06109461, -0.63384324],\n",
       "       [-0.22397877, -0.28777351],\n",
       "       [-0.42913912,  0.84558224],\n",
       "       [-1.04872805,  0.5220518 ],\n",
       "       [-1.04453138, -1.38298872],\n",
       "       [-0.06958832, -0.21950333],\n",
       "       [-0.28347724, -1.32932464],\n",
       "       [-0.27907778, -1.12002852],\n",
       "       [-0.62456979,  0.02492303],\n",
       "       [-0.33653037, -0.98840402],\n",
       "       [ 0.36218338, -2.01923787],\n",
       "       [-0.28858624, -0.85573032],\n",
       "       [-0.09136066, -0.18119213],\n",
       "       [-0.22771687, -0.38492008],\n",
       "       [-0.57638829, -0.1548736 ],\n",
       "       [ 0.44766702, -1.54379203],\n",
       "       [-0.25673059, -0.5988518 ],\n",
       "       [-1.84456887,  0.87042131],\n",
       "       [-1.15788161, -0.69886986],\n",
       "       [-2.20526679,  0.56201048],\n",
       "       [-1.44015066, -0.04698759],\n",
       "       [-1.86781222,  0.29504482],\n",
       "       [-2.75187334,  0.8004092 ],\n",
       "       [-0.36701769, -1.56150289],\n",
       "       [-2.30243944,  0.42006558],\n",
       "       [-2.00668647, -0.71143865],\n",
       "       [-2.25977735,  1.92101038],\n",
       "       [-1.36417549,  0.69275645],\n",
       "       [-1.60267867, -0.42170045],\n",
       "       [-1.8839007 ,  0.41924965],\n",
       "       [-1.2601151 , -1.16226042],\n",
       "       [-1.4676452 , -0.44227159],\n",
       "       [-1.59007732,  0.67624481],\n",
       "       [-1.47143146,  0.25562182],\n",
       "       [-2.42632899,  2.55666125],\n",
       "       [-3.31069558,  0.01778095],\n",
       "       [-1.26376667, -1.70674538],\n",
       "       [-2.0377163 ,  0.91046741],\n",
       "       [-0.97798073, -0.57176432],\n",
       "       [-2.89765149,  0.41364106],\n",
       "       [-1.33323218, -0.48181122],\n",
       "       [-1.7007339 ,  1.01392187],\n",
       "       [-1.95432671,  1.0077776 ],\n",
       "       [-1.17510363, -0.31639447],\n",
       "       [-1.02095055,  0.06434603],\n",
       "       [-1.78834992, -0.18736121],\n",
       "       [-1.86364755,  0.56229073],\n",
       "       [-2.43595373,  0.25928443],\n",
       "       [-2.30492772,  2.62632347],\n",
       "       [-1.86270322, -0.17854949],\n",
       "       [-1.11414774, -0.29292262],\n",
       "       [-1.2024733 , -0.81131527],\n",
       "       [-2.79877045,  0.85680333],\n",
       "       [-1.57625591,  1.06858111],\n",
       "       [-1.3462921 ,  0.42243061],\n",
       "       [-0.92482492,  0.0172231 ],\n",
       "       [-1.85204505,  0.67612817],\n",
       "       [-2.01481043,  0.61388564],\n",
       "       [-1.90178409,  0.68957549],\n",
       "       [-1.15788161, -0.69886986],\n",
       "       [-2.04055823,  0.8675206 ],\n",
       "       [-1.9981471 ,  1.04916875],\n",
       "       [-1.87050329,  0.38696608],\n",
       "       [-1.56458048, -0.89668681],\n",
       "       [-1.5211705 ,  0.26906914],\n",
       "       [-1.37278779,  1.01125442],\n",
       "       [-0.96065603, -0.02433167]])"
      ]
     },
     "execution_count": 63,
     "metadata": {},
     "output_type": "execute_result"
    }
   ],
   "source": [
    "# Step 4: Compute the eigenvalues and eigenvectors of the covariance matrix\n",
    "eigvals, eigvecs = np.linalg.eigh(cov_mat)\n",
    "\n",
    "# Step 5: Sort the eigenvalues and corresponding eigenvectors in descending order\n",
    "sorted_indices = np.argsort(eigvals)[::-1]\n",
    "eigvals = eigvals[sorted_indices]\n",
    "eigvecs = eigvecs[:, sorted_indices]\n",
    "\n",
    "# Step 6: Select the top k eigenvectors (principal components)\n",
    "k = 2  # Number of principal components to keep\n",
    "W_k = eigvecs[:, :k]\n",
    "\n",
    "# Step 7: Transform the data to the new subspace\n",
    "X_pca = np.dot(X_std, W_k)\n",
    "X_pca"
   ]
  },
  {
   "cell_type": "code",
   "execution_count": null,
   "metadata": {},
   "outputs": [],
   "source": []
  },
  {
   "cell_type": "markdown",
   "metadata": {
    "id": "hvZpoTT_oHJ0"
   },
   "source": [
    "# PCA using sklearn"
   ]
  },
  {
   "cell_type": "code",
   "execution_count": 64,
   "metadata": {
    "id": "pyhU28bxmB5i"
   },
   "outputs": [],
   "source": [
    "from sklearn.decomposition import PCA"
   ]
  },
  {
   "cell_type": "code",
   "execution_count": 65,
   "metadata": {
    "colab": {
     "base_uri": "https://localhost:8080/",
     "height": 74
    },
    "id": "-HGKyvrboEUw",
    "outputId": "9bd7fae2-9d01-4fb3-cfb2-e5355aff53e8"
   },
   "outputs": [
    {
     "data": {
      "text/html": [
       "<style>#sk-container-id-1 {color: black;}#sk-container-id-1 pre{padding: 0;}#sk-container-id-1 div.sk-toggleable {background-color: white;}#sk-container-id-1 label.sk-toggleable__label {cursor: pointer;display: block;width: 100%;margin-bottom: 0;padding: 0.3em;box-sizing: border-box;text-align: center;}#sk-container-id-1 label.sk-toggleable__label-arrow:before {content: \"▸\";float: left;margin-right: 0.25em;color: #696969;}#sk-container-id-1 label.sk-toggleable__label-arrow:hover:before {color: black;}#sk-container-id-1 div.sk-estimator:hover label.sk-toggleable__label-arrow:before {color: black;}#sk-container-id-1 div.sk-toggleable__content {max-height: 0;max-width: 0;overflow: hidden;text-align: left;background-color: #f0f8ff;}#sk-container-id-1 div.sk-toggleable__content pre {margin: 0.2em;color: black;border-radius: 0.25em;background-color: #f0f8ff;}#sk-container-id-1 input.sk-toggleable__control:checked~div.sk-toggleable__content {max-height: 200px;max-width: 100%;overflow: auto;}#sk-container-id-1 input.sk-toggleable__control:checked~label.sk-toggleable__label-arrow:before {content: \"▾\";}#sk-container-id-1 div.sk-estimator input.sk-toggleable__control:checked~label.sk-toggleable__label {background-color: #d4ebff;}#sk-container-id-1 div.sk-label input.sk-toggleable__control:checked~label.sk-toggleable__label {background-color: #d4ebff;}#sk-container-id-1 input.sk-hidden--visually {border: 0;clip: rect(1px 1px 1px 1px);clip: rect(1px, 1px, 1px, 1px);height: 1px;margin: -1px;overflow: hidden;padding: 0;position: absolute;width: 1px;}#sk-container-id-1 div.sk-estimator {font-family: monospace;background-color: #f0f8ff;border: 1px dotted black;border-radius: 0.25em;box-sizing: border-box;margin-bottom: 0.5em;}#sk-container-id-1 div.sk-estimator:hover {background-color: #d4ebff;}#sk-container-id-1 div.sk-parallel-item::after {content: \"\";width: 100%;border-bottom: 1px solid gray;flex-grow: 1;}#sk-container-id-1 div.sk-label:hover label.sk-toggleable__label {background-color: #d4ebff;}#sk-container-id-1 div.sk-serial::before {content: \"\";position: absolute;border-left: 1px solid gray;box-sizing: border-box;top: 0;bottom: 0;left: 50%;z-index: 0;}#sk-container-id-1 div.sk-serial {display: flex;flex-direction: column;align-items: center;background-color: white;padding-right: 0.2em;padding-left: 0.2em;position: relative;}#sk-container-id-1 div.sk-item {position: relative;z-index: 1;}#sk-container-id-1 div.sk-parallel {display: flex;align-items: stretch;justify-content: center;background-color: white;position: relative;}#sk-container-id-1 div.sk-item::before, #sk-container-id-1 div.sk-parallel-item::before {content: \"\";position: absolute;border-left: 1px solid gray;box-sizing: border-box;top: 0;bottom: 0;left: 50%;z-index: -1;}#sk-container-id-1 div.sk-parallel-item {display: flex;flex-direction: column;z-index: 1;position: relative;background-color: white;}#sk-container-id-1 div.sk-parallel-item:first-child::after {align-self: flex-end;width: 50%;}#sk-container-id-1 div.sk-parallel-item:last-child::after {align-self: flex-start;width: 50%;}#sk-container-id-1 div.sk-parallel-item:only-child::after {width: 0;}#sk-container-id-1 div.sk-dashed-wrapped {border: 1px dashed gray;margin: 0 0.4em 0.5em 0.4em;box-sizing: border-box;padding-bottom: 0.4em;background-color: white;}#sk-container-id-1 div.sk-label label {font-family: monospace;font-weight: bold;display: inline-block;line-height: 1.2em;}#sk-container-id-1 div.sk-label-container {text-align: center;}#sk-container-id-1 div.sk-container {/* jupyter's `normalize.less` sets `[hidden] { display: none; }` but bootstrap.min.css set `[hidden] { display: none !important; }` so we also need the `!important` here to be able to override the default hidden behavior on the sphinx rendered scikit-learn.org. See: https://github.com/scikit-learn/scikit-learn/issues/21755 */display: inline-block !important;position: relative;}#sk-container-id-1 div.sk-text-repr-fallback {display: none;}</style><div id=\"sk-container-id-1\" class=\"sk-top-container\"><div class=\"sk-text-repr-fallback\"><pre>PCA(n_components=2)</pre><b>In a Jupyter environment, please rerun this cell to show the HTML representation or trust the notebook. <br />On GitHub, the HTML representation is unable to render, please try loading this page with nbviewer.org.</b></div><div class=\"sk-container\" hidden><div class=\"sk-item\"><div class=\"sk-estimator sk-toggleable\"><input class=\"sk-toggleable__control sk-hidden--visually\" id=\"sk-estimator-id-1\" type=\"checkbox\" checked><label for=\"sk-estimator-id-1\" class=\"sk-toggleable__label sk-toggleable__label-arrow\">PCA</label><div class=\"sk-toggleable__content\"><pre>PCA(n_components=2)</pre></div></div></div></div></div>"
      ],
      "text/plain": [
       "PCA(n_components=2)"
      ]
     },
     "execution_count": 65,
     "metadata": {},
     "output_type": "execute_result"
    }
   ],
   "source": [
    "# Initialize PCA and reduce the dimensionality\n",
    "pca = PCA(n_components=2)\n",
    "pca.fit(X_std)  # preparing the transformerr matrix"
   ]
  },
  {
   "cell_type": "code",
   "execution_count": 66,
   "metadata": {
    "colab": {
     "base_uri": "https://localhost:8080/"
    },
    "id": "mY92QH_goPID",
    "outputId": "5db8e0ab-0424-4710-82b9-46f00277fd7f"
   },
   "outputs": [
    {
     "data": {
      "text/plain": [
       "array([[-2.26470281,  0.4800266 ],\n",
       "       [-2.08096115, -0.67413356],\n",
       "       [-2.36422905, -0.34190802],\n",
       "       [-2.29938422, -0.59739451],\n",
       "       [-2.38984217,  0.64683538]])"
      ]
     },
     "execution_count": 66,
     "metadata": {},
     "output_type": "execute_result"
    }
   ],
   "source": [
    "X_pca = pca.transform(X_std)\n",
    "X_pca[:5]"
   ]
  },
  {
   "cell_type": "code",
   "execution_count": 67,
   "metadata": {
    "id": "Q-iTtBMZogG7"
   },
   "outputs": [],
   "source": [
    "X_pca = pca.fit_transform(X_std)  # fit & transform in the same step"
   ]
  },
  {
   "cell_type": "code",
   "execution_count": 68,
   "metadata": {
    "colab": {
     "base_uri": "https://localhost:8080/"
    },
    "id": "i6l0z7MDof9F",
    "outputId": "84a124da-2b9c-4ff7-e20c-8888ac612f2b"
   },
   "outputs": [
    {
     "name": "stdout",
     "output_type": "stream",
     "text": [
      "Explained variance ratio:\n",
      "[0.72962445 0.22850762]\n"
     ]
    }
   ],
   "source": [
    "# you can also retrieve the amount of variance explained by each component\n",
    "print(\"Explained variance ratio:\")\n",
    "print(pca.explained_variance_ratio_)"
   ]
  },
  {
   "cell_type": "code",
   "execution_count": null,
   "metadata": {
    "id": "AmGX5Lunofy5"
   },
   "outputs": [],
   "source": []
  },
  {
   "cell_type": "code",
   "execution_count": null,
   "metadata": {
    "id": "KB0c1vljofpR"
   },
   "outputs": [],
   "source": []
  },
  {
   "cell_type": "code",
   "execution_count": null,
   "metadata": {
    "id": "wBg8H6mXoffI"
   },
   "outputs": [],
   "source": []
  }
 ],
 "metadata": {
  "colab": {
   "provenance": []
  },
  "kernelspec": {
   "display_name": "Python 3 (ipykernel)",
   "language": "python",
   "name": "python3"
  },
  "language_info": {
   "codemirror_mode": {
    "name": "ipython",
    "version": 3
   },
   "file_extension": ".py",
   "mimetype": "text/x-python",
   "name": "python",
   "nbconvert_exporter": "python",
   "pygments_lexer": "ipython3",
   "version": "3.11.5"
  }
 },
 "nbformat": 4,
 "nbformat_minor": 1
}
