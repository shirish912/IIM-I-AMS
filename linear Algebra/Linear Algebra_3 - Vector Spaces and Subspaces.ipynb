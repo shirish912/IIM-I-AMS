{
 "cells": [
  {
   "cell_type": "markdown",
   "id": "329fc01b",
   "metadata": {},
   "source": [
    "# Vector Spaces\n",
    "\n",
    "In mathematics, particularly in linear algebra, a **vector space** (or linear space) is a collection of vectors, which are objects that can be added together and multiplied (\"scaled\") by numbers, called scalars in this context. Scalars are often taken to be real numbers, but there are also vector spaces with scalar multiplication by complex numbers, rational numbers, or generally any field.\n",
    "\n",
    "The key characteristics of a vector space include two operations: vector addition and scalar multiplication. For a set to be considered a vector space, it must satisfy the following conditions:\n",
    "- **Associativity of addition**: $ \\mathbf{u} + (\\mathbf{v} + \\mathbf{w}) = (\\mathbf{u} + \\mathbf{v}) + \\mathbf{w} $\n",
    "- **Commutativity of addition**: $ \\mathbf{u} + \\mathbf{v} = \\mathbf{v} + \\mathbf{u} $\n",
    "- **Identity element of addition**: There exists an element $ \\mathbf{0} $ such that $ \\mathbf{u} + \\mathbf{0} = \\mathbf{u} $ for any $ \\mathbf{u} $\n",
    "- **Inverse elements of addition**: For every $ \\mathbf{u} $, there exists an element $ -\\mathbf{u} $ such that $ \\mathbf{u} + (-\\mathbf{u}) = \\mathbf{0} $\n",
    "- **Compatibility of scalar multiplication with field multiplication**: $ a(b\\mathbf{u}) = (ab)\\mathbf{u} $\n",
    "- **Identity element of scalar multiplication**: $ 1\\mathbf{u} = \\mathbf{u} $\n",
    "- **Distributivity of scalar multiplication with respect to vector addition**: $ a(\\mathbf{u} + \\mathbf{v}) = a\\mathbf{u} + a\\mathbf{v} $\n",
    "- **Distributivity of scalar multiplication with respect to field addition**: $ (a + b)\\mathbf{u} = a\\mathbf{u} + b\\mathbf{u} $\n",
    "\n",
    "### Where Vector Spaces are Used in Data Science\n",
    "\n",
    "**1. Machine Learning Algorithms**\n",
    "- **Feature Spaces**: In machine learning, especially in supervised learning, each data point is often represented as a vector within a feature space. This vector space is critical for various algorithms such as support vector machines (SVMs), where data points are manipulated in high-dimensional vector spaces to determine decision boundaries.\n",
    "- **Model Parameter Space**: Many models in machine learning, including neural networks, operate in a parameter space that is essentially a vector space. Optimization techniques such as gradient descent navigate this space to find the optimal parameters that minimize a loss function.\n",
    "\n",
    "**2. Natural Language Processing (NLP)**\n",
    "- **Word Embeddings**: Tools like Word2Vec or GloVe represent words in a high-dimensional vector space where the vector operations have semantic meanings. For example, the analogy \"king is to queen as man is to woman\" can be represented by vector equations.\n",
    "- **Document Vectors**: Techniques like Latent Semantic Analysis (LSA) use vector spaces to reduce the dimensionality of the text data, helping in summarization, topic modeling, and similarity detection.\n",
    "\n",
    "**3. Computer Vision**\n",
    "- **Image Representations**: Images are often represented as vectors (or tensors) in a vector space. Operations in this space can be used for image recognition, transformation, and other image processing tasks.\n",
    "\n",
    "**4. Recommender Systems**\n",
    "- **Collaborative Filtering**: Methods like matrix factorization represent users and items as vectors in a low-dimensional latent space. The interactions between user and item vectors are used to predict missing entries (e.g., user ratings), which can recommend new items to users.\n",
    "\n",
    "**5. Data Visualization**\n",
    "- **Dimensionality Reduction**: Techniques like PCA and t-SNE involve transformations within vector spaces to project high-dimensional data into lower dimensions for visualization while preserving certain relationships or structures from the original space."
   ]
  },
  {
   "cell_type": "markdown",
   "id": "c696b2c2",
   "metadata": {},
   "source": [
    "### Python Example"
   ]
  },
  {
   "cell_type": "code",
   "execution_count": 3,
   "id": "f2a2848d",
   "metadata": {},
   "outputs": [],
   "source": [
    "import numpy as np\n",
    "\n",
    "# Define vectors\n",
    "u = np.array([1, 2, 3, 4])\n",
    "v = np.array([-1, 0, 1, 3])\n",
    "w = np.array([4, 5, 6, -2])"
   ]
  },
  {
   "cell_type": "code",
   "execution_count": 4,
   "id": "b983aeea",
   "metadata": {},
   "outputs": [
    {
     "data": {
      "text/plain": [
       "array([0, 2, 4, 7])"
      ]
     },
     "execution_count": 4,
     "metadata": {},
     "output_type": "execute_result"
    }
   ],
   "source": [
    "# Vector addition\n",
    "addition = u + v\n",
    "addition"
   ]
  },
  {
   "cell_type": "code",
   "execution_count": 5,
   "id": "dc2d8069",
   "metadata": {},
   "outputs": [
    {
     "data": {
      "text/plain": [
       "array([ 3,  6,  9, 12])"
      ]
     },
     "execution_count": 5,
     "metadata": {},
     "output_type": "execute_result"
    }
   ],
   "source": [
    "# Scalar multiplication\n",
    "scalar_multiplication = 3 * u\n",
    "scalar_multiplication"
   ]
  },
  {
   "cell_type": "code",
   "execution_count": 7,
   "id": "c7d5fc55",
   "metadata": {},
   "outputs": [
    {
     "data": {
      "text/plain": [
       "array([21, 24, 27, -9])"
      ]
     },
     "execution_count": 7,
     "metadata": {},
     "output_type": "execute_result"
    }
   ],
   "source": [
    "# Linear combination\n",
    "linear_combination = 2*u - 3*v + 4*w\n",
    "linear_combination"
   ]
  },
  {
   "cell_type": "code",
   "execution_count": null,
   "id": "c036ce4d",
   "metadata": {},
   "outputs": [],
   "source": []
  },
  {
   "cell_type": "markdown",
   "id": "34cebda6",
   "metadata": {},
   "source": [
    "# Vector Subspaces\n",
    "\n",
    "In linear algebra, a **vector subspace** is a subset of a vector space that itself is a vector space under the operations of vector addition and scalar multiplication defined on the larger vector space. For a subset $ W $ of a vector space $ V $ to be considered a subspace, it must satisfy three conditions:\n",
    "1. **Non-emptiness/Contains the Zero Vector**: $ W $ must include the zero vector of $ V $.\n",
    "2. **Closed under Addition**: For any vectors $ u $ and $ v $ in $ W $, the sum $ u + v $ must also be in $ W $.\n",
    "3. **Closed under Scalar Multiplication**: For any vector $ u $ in $ W $ and any scalar $ c $, the product $ c \\cdot u $ must also be in $ W $.\n",
    "\n",
    "These properties ensure that any linear combination of vectors in $ W $ also belongs to $ W $, thereby making $ W $ a vector space in its own right.\n",
    "\n",
    "### Applications of Vector Subspaces in Data Science\n",
    "\n",
    "Vector subspaces are fundamental in many aspects of data science and related fields such as machine learning, statistics, and computer science. Here are some key areas where vector subspaces are particularly relevant:\n",
    "\n",
    "**1. Machine Learning**\n",
    "- **Feature Spaces**: In machine learning, especially in methods like PCA or LDA (Linear Discriminant Analysis), the feature space is often reduced to a subspace that captures the most variance or best separates classes. These reduced spaces are subspaces of the original feature space.\n",
    "- **Regularization and Constraint**: Techniques like ridge regression or Lasso involve constraining or regularizing parameters to lie within a certain subspace, often defined by norm constraints.\n",
    "\n",
    "**2. Natural Language Processing (NLP)**\n",
    "- **Semantic and Syntactic Subspaces**: In NLP, different vector subspaces within word embedding spaces may capture semantic or syntactic relationships between words. Operations within these subspaces can reveal linguistic patterns and relationships.\n",
    "- **Topic Modeling**: Methods like LSA decompose text data into subspaces that capture thematic structures, where each subspace may correspond to a topic.\n",
    "\n",
    "**3. Computer Vision**\n",
    "- **Image Transformations and Filters**: In image processing, certain transformations can be considered as mapping images into subspaces that emphasize specific features or properties, such as edges or frequencies. Fourier transforms and wavelet transforms create subspaces that isolate specific characteristics of images.\n",
    "\n",
    "**4. Data Visualization**\n",
    "- **Dimensionality Reduction**: Visualization techniques often involve projecting high-dimensional data into lower-dimensional subspaces (using methods like t-SNE or PCA) to make the data visually comprehensible while preserving certain statistical properties or structures.\n",
    "\n",
    "**5. Recommender Systems**\n",
    "- **Latent Factor Models**: In these systems, user preferences and item characteristics are often modeled in lower-dimensional subspaces, where dimensions correspond to latent factors (possibly representing genres, themes, etc.). This subspace framework helps in predicting user-item interactions effectively."
   ]
  },
  {
   "cell_type": "markdown",
   "id": "f0772b45",
   "metadata": {},
   "source": [
    "### Python Example: Checking for a Subspace"
   ]
  },
  {
   "cell_type": "code",
   "execution_count": 8,
   "id": "fdea29af",
   "metadata": {},
   "outputs": [
    {
     "data": {
      "text/plain": [
       "array([1, 1, 0])"
      ]
     },
     "execution_count": 8,
     "metadata": {},
     "output_type": "execute_result"
    }
   ],
   "source": [
    "import numpy as np\n",
    "\n",
    "# Define vectors in R^3\n",
    "v1 = np.array([1, 0, 0])\n",
    "v2 = np.array([0, 1, 0])\n",
    "\n",
    "# Check if their sum is in the span of v1 and v2\n",
    "v_sum = v1 + v2\n",
    "v_sum"
   ]
  },
  {
   "cell_type": "code",
   "execution_count": 9,
   "id": "47d0323c",
   "metadata": {},
   "outputs": [
    {
     "data": {
      "text/plain": [
       "array([ 3, -2,  0])"
      ]
     },
     "execution_count": 9,
     "metadata": {},
     "output_type": "execute_result"
    }
   ],
   "source": [
    "# Check if a scalar multiple is in the span\n",
    "v_scalar = 3*v1 - 2*v2\n",
    "v_scalar"
   ]
  },
  {
   "cell_type": "code",
   "execution_count": null,
   "id": "dde66dfe",
   "metadata": {},
   "outputs": [],
   "source": []
  },
  {
   "cell_type": "code",
   "execution_count": null,
   "id": "68838036",
   "metadata": {},
   "outputs": [],
   "source": []
  },
  {
   "cell_type": "markdown",
   "id": "c6c59296",
   "metadata": {},
   "source": [
    "# MAtrix Spaces"
   ]
  },
  {
   "cell_type": "markdown",
   "id": "097a0223",
   "metadata": {},
   "source": [
    "## 1. Row Space\n",
    "\n",
    "**Definition:**\n",
    "The row space of a matrix $ A $, also known as the row space of $ A $, consists of all possible linear combinations of the row vectors of the matrix. It is a subspace of $ \\mathbb{R}^n $ if $ A $ is an $ m \\times n $ matrix.\n",
    "\n",
    "**Mathematical Representation:**\n",
    "If $ A $ is represented as:\n",
    "$$\n",
    "A = \\begin{bmatrix}\n",
    "\\mathbf{r}_1 \\\\\n",
    "\\mathbf{r}_2 \\\\\n",
    "\\vdots \\\\\n",
    "\\mathbf{r}_m\n",
    "\\end{bmatrix}\n",
    "$$\n",
    "where each $ \\mathbf{r}_i $ is a row vector, the row space can be expressed as the span of these row vectors:\n",
    "$$\n",
    "\\text{Row Space}(A) = \\text{Span}(\\mathbf{r}_1, \\mathbf{r}_2, ..., \\mathbf{r}_m)\n",
    "$$\n",
    "\n",
    "**Importance:**\n",
    "The dimension of the row space is called the rank of the matrix. The rank reveals how many linearly independent row vectors exist in the matrix, which is crucial for understanding the solution set of the corresponding system of linear equations."
   ]
  },
  {
   "cell_type": "code",
   "execution_count": null,
   "id": "76bb4d76",
   "metadata": {},
   "outputs": [],
   "source": []
  },
  {
   "cell_type": "markdown",
   "id": "a364eba9",
   "metadata": {},
   "source": [
    "## 2. Column Space\n",
    "\n",
    "**Definition:**\n",
    "The column space of a matrix $ A $, also known as the range of $ A $, is the set of all possible linear combinations of the column vectors of the matrix. This space represents all the vectors that can be obtained by multiplying $ A $ with some vector $ \\mathbf{x} $.\n",
    "\n",
    "**Mathematical Representation:**\n",
    "If $ A $ is an $ m \\times n $ matrix with columns $ \\mathbf{c}_1, \\mathbf{c}_2, ..., \\mathbf{c}_n $, then the column space is given by:\n",
    "$$\n",
    "\\text{Col Space}(A) = \\text{Span}(\\mathbf{c}_1, \\mathbf{c}_2, ..., \\mathbf{c}_n)\n",
    "$$\n",
    "\n",
    "**Importance:**\n",
    "The column space is critical in determining the output of $ A\\mathbf{x} $ for any $ \\mathbf{x} $. It also helps in solving linear equations, particularly in understanding whether a system of equations $ A\\mathbf{x} = \\mathbf{b} $ has a solution. If $ \\mathbf{b} $ is in the column space of $ A $, then the system is solvable."
   ]
  },
  {
   "cell_type": "code",
   "execution_count": null,
   "id": "0ea593ac",
   "metadata": {},
   "outputs": [],
   "source": []
  },
  {
   "cell_type": "markdown",
   "id": "60ab167f",
   "metadata": {},
   "source": [
    "## 3. Null Space\n",
    "\n",
    "**Definition:**\n",
    "The null space (or kernel) of a matrix $ A $ consists of all vectors $ \\mathbf{x} $ such that $ A\\mathbf{x} = \\mathbf{0} $. It contains all solutions to the homogeneous equation $ A\\mathbf{x} = \\mathbf{0} $ and represents the set of vectors that are mapped to the zero vector by $ A $.\n",
    "\n",
    "**Mathematical Representation:**\n",
    "If $ A $ is an $ m \\times n $ matrix, then the null space is defined as:\n",
    "$$\n",
    "\\text{Null Space}(A) = \\{\\mathbf{x} \\in \\mathbb{R}^n : A\\mathbf{x} = \\mathbf{0}\\}\n",
    "$$\n",
    "\n",
    "**Importance:**\n",
    "The null space is fundamental in solving systems of linear equations, particularly in finding the general solution to the system. The dimension of the null space, called the nullity of $ A $, along with the rank of $ A $, satisfies the Rank-Nullity Theorem: $\\text{rank}(A) + \\text{nullity}(A) = n$, where $ n $ is the number of columns of $ A $.\n",
    "\n",
    "### Applications Across Fields\n",
    "\n",
    "- **Systems of Linear Equations**: Understanding these spaces helps in solving both homogeneous and non-homogeneous systems.\n",
    "- **Engineering and Physics**: These concepts are used in mechanics, electronics, and quantum mechanics for various analytical solutions.\n",
    "- **Data Science**: They are crucial in Principal Component Analysis (PCA) for dimensionality reduction, regression analysis, and more sophisticated machine learning algorithms that require an understanding of the underlying data structure."
   ]
  },
  {
   "cell_type": "code",
   "execution_count": 10,
   "id": "8187e2af",
   "metadata": {},
   "outputs": [
    {
     "name": "stdout",
     "output_type": "stream",
     "text": [
      "Matrix A:\n",
      "[[1 2 3]\n",
      " [4 5 6]\n",
      " [7 8 9]]\n"
     ]
    }
   ],
   "source": [
    "# Define a 3x3 matrix\n",
    "A = np.array([[1, 2, 3],\n",
    "              [4, 5, 6],\n",
    "              [7, 8, 9]])\n",
    "print(\"Matrix A:\")\n",
    "print(A)"
   ]
  },
  {
   "cell_type": "code",
   "execution_count": 11,
   "id": "d6755a30",
   "metadata": {},
   "outputs": [
    {
     "name": "stdout",
     "output_type": "stream",
     "text": [
      "\n",
      "Null space:\n",
      "[[-0.40824829]\n",
      " [ 0.81649658]\n",
      " [-0.40824829]]\n"
     ]
    }
   ],
   "source": [
    "import numpy as np\n",
    "from scipy.linalg import null_space\n",
    "\n",
    "# Finding the null space using SciPy\n",
    "nullspace = null_space(A)\n",
    "print(\"\\nNull space:\")\n",
    "print(nullspace)"
   ]
  },
  {
   "cell_type": "code",
   "execution_count": null,
   "id": "6b075b17",
   "metadata": {},
   "outputs": [],
   "source": []
  }
 ],
 "metadata": {
  "kernelspec": {
   "display_name": "Python 3 (ipykernel)",
   "language": "python",
   "name": "python3"
  },
  "language_info": {
   "codemirror_mode": {
    "name": "ipython",
    "version": 3
   },
   "file_extension": ".py",
   "mimetype": "text/x-python",
   "name": "python",
   "nbconvert_exporter": "python",
   "pygments_lexer": "ipython3",
   "version": "3.11.5"
  }
 },
 "nbformat": 4,
 "nbformat_minor": 5
}
