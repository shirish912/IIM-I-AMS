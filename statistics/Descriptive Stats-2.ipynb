{
 "cells": [
  {
   "cell_type": "markdown",
   "id": "9f139069",
   "metadata": {},
   "source": [
    "# Percentiles, Deciles, and Quartiles"
   ]
  },
  {
   "cell_type": "markdown",
   "id": "37dbc63f",
   "metadata": {},
   "source": [
    "#### Percentiles\n",
    "\n",
    "**Definition**:\n",
    "Percentiles divide a dataset into 100 equal parts. The nth percentile is the value below which n percent of the data falls.\n",
    "\n",
    "**Formula**:\n",
    "To find the nth percentile, sort the data in ascending order and use the formula:\n",
    "$$ P_n = \\frac{n}{100} \\times (N + 1) $$\n",
    "where $ N $ is the number of data points.\n",
    "\n",
    "**Explanation**:\n",
    "- The 50th percentile is the median.\n",
    "- The 25th percentile (Q1) is the value below which 25% of the data falls.\n",
    "- The 75th percentile (Q3) is the value below which 75% of the data falls.\n",
    "\n",
    "**Application**:\n",
    "Percentiles are widely used in data science to understand the distribution of data, such as in standardized test scores, where percentiles indicate the relative performance of individuals.\n",
    "\n",
    "#### Deciles\n",
    "\n",
    "**Definition**:\n",
    "Deciles divide a dataset into 10 equal parts. The nth decile is the value below which n/10 of the data falls.\n",
    "\n",
    "**Formula**:\n",
    "To find the nth decile, sort the data in ascending order and use the formula:\n",
    "$$ D_n = \\frac{n}{10} \\times (N + 1) $$\n",
    "\n",
    "**Explanation**:\n",
    "- The 1st decile (D1) is the 10th percentile.\n",
    "- The 5th decile (D5) is the median (50th percentile).\n",
    "- The 9th decile (D9) is the 90th percentile.\n",
    "\n",
    "**Application**:\n",
    "Deciles are useful for dividing data into broad categories, such as income distributions, where they can help identify different socioeconomic groups.\n",
    "\n",
    "#### Quartiles\n",
    "\n",
    "**Definition**:\n",
    "Quartiles divide a dataset into 4 equal parts. Each quartile represents 25% of the data.\n",
    "\n",
    "**Formula**:\n",
    "To find the quartiles, sort the data in ascending order and use the following formulas:\n",
    "- $ Q1 = 25th $ percentile\n",
    "- $ Q2 = 50th $ percentile (median)\n",
    "- $ Q3 = 75th $ percentile\n",
    "\n",
    "**Explanation**:\n",
    "- Q1 (first quartile) is the value below which 25% of the data falls.\n",
    "- Q2 (second quartile) is the median, below which 50% of the data falls.\n",
    "- Q3 (third quartile) is the value below which 75% of the data falls.\n",
    "\n",
    "**Application**:\n",
    "Quartiles are often used in descriptive statistics to summarize data distributions, such as in box plots, which visualize the 5-point summary (minimum, Q1, median, Q3, maximum)."
   ]
  },
  {
   "cell_type": "code",
   "execution_count": null,
   "id": "5ee61857",
   "metadata": {},
   "outputs": [],
   "source": [
    "import numpy as np\n",
    "\n",
    "# Sample data\n",
    "data = [3, 7, 8, 5, 12, 14, 21, 13, 18, 20, 5, 9, 11, 19, 6, 17, 15, 10, 4, 16]"
   ]
  },
  {
   "cell_type": "code",
   "execution_count": null,
   "id": "daab8b8d",
   "metadata": {},
   "outputs": [],
   "source": [
    "# Sort the data\n",
    "data.sort()\n",
    "\n",
    "# Calculate percentiles\n",
    "percentiles = [np.percentile(data, p) for p in range(0, 101, 10)]\n",
    "print(f\"Percentiles (0th to 100th, every 10th): {percentiles}\")"
   ]
  },
  {
   "cell_type": "code",
   "execution_count": null,
   "id": "6dcaa1d7",
   "metadata": {},
   "outputs": [],
   "source": [
    "# Calculate deciles\n",
    "deciles = [np.percentile(data, d * 10) for d in range(1, 10)]\n",
    "print(f\"Deciles (10th to 90th): {deciles}\")"
   ]
  },
  {
   "cell_type": "code",
   "execution_count": null,
   "id": "d5aab955",
   "metadata": {},
   "outputs": [],
   "source": [
    "# Calculate quartiles\n",
    "Q1 = np.percentile(data, 25)\n",
    "Q2 = np.percentile(data, 50)  # This is the median\n",
    "Q3 = np.percentile(data, 75)\n",
    "print(f\"Quartiles: Q1 = {Q1}, Q2 (Median) = {Q2}, Q3 = {Q3}\")"
   ]
  },
  {
   "cell_type": "code",
   "execution_count": null,
   "id": "f3db1588",
   "metadata": {},
   "outputs": [],
   "source": [
    "# Calculate the 5-point summary\n",
    "min_val = np.min(data)\n",
    "max_val = np.max(data)\n",
    "five_point_summary = [min_val, Q1, Q2, Q3, max_val]\n",
    "print(f\"5-Point Summary: {five_point_summary}\")\n"
   ]
  },
  {
   "cell_type": "code",
   "execution_count": null,
   "id": "ca279130",
   "metadata": {},
   "outputs": [],
   "source": []
  },
  {
   "cell_type": "code",
   "execution_count": null,
   "id": "f989a2de",
   "metadata": {},
   "outputs": [],
   "source": []
  },
  {
   "cell_type": "markdown",
   "id": "78cdf0fd",
   "metadata": {},
   "source": [
    "### Interquartile Range (IQR)\n",
    "\n",
    "**Definition**:\n",
    "The Interquartile Range (IQR) is a measure of statistical dispersion, or how spread out the data points are. It is the range between the first quartile (Q1) and the third quartile (Q3).\n",
    "\n",
    "**Formula**:\n",
    "\\[\n",
    "\\text{IQR} = Q3 - Q1\n",
    "\\]\n",
    "\n",
    "**Explanation**:\n",
    "- Q1 (first quartile) is the 25th percentile of the data.\n",
    "- Q3 (third quartile) is the 75th percentile of the data.\n",
    "- The IQR represents the middle 50% of the data. It is a robust measure of variability because it is not affected by outliers or extreme values.\n",
    "\n",
    "**Application**:\n",
    "The IQR is used to identify outliers and understand the spread of the middle portion of the data."
   ]
  },
  {
   "cell_type": "markdown",
   "id": "6288fcb2",
   "metadata": {},
   "source": [
    "### Box and Whisker Plots\n",
    "\n",
    "**Definition**:\n",
    "A box and whisker plot (or simply, box plot) is a graphical representation of the distribution of a dataset. It shows the minimum, first quartile (Q1), median (Q2), third quartile (Q3), and maximum, as well as potential outliers.\n",
    "\n",
    "**Components**:\n",
    "1. **Box**: The box represents the IQR (from Q1 to Q3).\n",
    "2. **Whiskers**: Lines extending from the box to the minimum and maximum values within 1.5 * IQR from Q1 and Q3, respectively.\n",
    "3. **Median Line**: A line inside the box representing the median (Q2).\n",
    "4. **Outliers**: Points outside the whiskers are considered outliers.\n",
    "\n",
    "**Application**:\n",
    "Box plots are used to visualize the central tendency, spread, and skewness of data, and to identify outliers."
   ]
  },
  {
   "cell_type": "markdown",
   "id": "3c2979dd",
   "metadata": {},
   "source": [
    "### Outlier Analysis Based on Box and Whisker Plot\n",
    "\n",
    "**Identification of Outliers**:\n",
    "- Any data point below Q1 - 1.5 * IQR or above Q3 + 1.5 * IQR is considered an outlier.\n",
    "\n",
    "**Steps**:\n",
    "1. Calculate Q1 and Q3.\n",
    "2. Compute the IQR (Q3 - Q1).\n",
    "3. Determine the lower bound: $ Q1 - 1.5 \\times IQR $\n",
    "4. Determine the upper bound: $ Q3 + 1.5 \\times IQR $\n",
    "5. Identify data points outside these bounds as outliers.\n"
   ]
  },
  {
   "cell_type": "code",
   "execution_count": null,
   "id": "a6b4a603",
   "metadata": {},
   "outputs": [],
   "source": [
    "import numpy as np\n",
    "import matplotlib.pyplot as plt\n",
    "\n",
    "# Sample data\n",
    "data = [3, 7, 8, 5, 12, 14, 21, 13, 18, 20, 5, 9, 11, 19, 6, 17, 15, 10, 4, 16, 69, -2]\n",
    "\n",
    "# Calculate quartiles and IQR\n",
    "Q1 = np.percentile(data, 25)\n",
    "Q3 = np.percentile(data, 75)\n",
    "IQR = Q3 - Q1"
   ]
  },
  {
   "cell_type": "code",
   "execution_count": null,
   "id": "50b49dcf",
   "metadata": {},
   "outputs": [],
   "source": [
    "# Calculate bounds for outliers\n",
    "lower_bound = Q1 - 1.5 * IQR\n",
    "upper_bound = Q3 + 1.5 * IQR"
   ]
  },
  {
   "cell_type": "code",
   "execution_count": null,
   "id": "41229303",
   "metadata": {},
   "outputs": [],
   "source": [
    "# Identify outliers\n",
    "outliers = [x for x in data if x < lower_bound or x > upper_bound]"
   ]
  },
  {
   "cell_type": "code",
   "execution_count": null,
   "id": "d6261852",
   "metadata": {},
   "outputs": [],
   "source": [
    "# Create box plot\n",
    "plt.figure(figsize=(10, 6))\n",
    "plt.boxplot(data, vert=False, patch_artist=True, \n",
    "            boxprops=dict(facecolor='lightblue', color='blue'),\n",
    "            whiskerprops=dict(color='blue'),\n",
    "            capprops=dict(color='blue'),\n",
    "            medianprops=dict(color='red'),\n",
    "            flierprops=dict(markerfacecolor='red', marker='o', markersize=12, linestyle='none'))\n",
    "\n",
    "plt.title('Box and Whisker Plot with Outliers')\n",
    "plt.xlabel('Value')\n",
    "plt.show()\n",
    "\n",
    "print(f\"Q1: {Q1}, Q3: {Q3}, IQR: {IQR}\")\n",
    "print(f\"Lower bound: {lower_bound}, Upper bound: {upper_bound}\")\n",
    "print(f\"Outliers: {outliers}\")"
   ]
  },
  {
   "cell_type": "code",
   "execution_count": null,
   "id": "36e49358",
   "metadata": {},
   "outputs": [],
   "source": [
    "import seaborn as sns\n",
    "\n",
    "# Create box plot using Seaborn\n",
    "plt.figure(figsize=(10, 6))\n",
    "sns.boxplot(x=data, color='lightblue', flierprops=dict(markerfacecolor='red', marker='o', markersize=12, linestyle='none'))\n",
    "plt.title('Box and Whisker Plot with Outliers')\n",
    "plt.xlabel('Value')\n",
    "plt.show()\n"
   ]
  },
  {
   "cell_type": "code",
   "execution_count": null,
   "id": "92df51f4",
   "metadata": {},
   "outputs": [],
   "source": []
  },
  {
   "cell_type": "markdown",
   "id": "8ac65fb8",
   "metadata": {},
   "source": [
    "### Outlier Analysis Based on Standard Deviations\n",
    "\n",
    "**Definition**:\n",
    "Another method to identify outliers is based on the number of standard deviations from the mean.\n",
    "\n",
    "**Steps**:\n",
    "1. Calculate the mean ($\\mu$) and standard deviation ($\\sigma$) of the dataset.\n",
    "2. Determine the threshold for outliers, typically 2 or 3 standard deviations from the mean.\n",
    "3. Identify data points outside these bounds:\n",
    "   - Lower bound: $ \\mu - k \\sigma $\n",
    "   - Upper bound: $ \\mu + k \\sigma $\n",
    "   where $ k $ is the number of standard deviations (commonly 2 or 3).\n"
   ]
  },
  {
   "cell_type": "code",
   "execution_count": null,
   "id": "1d632eca",
   "metadata": {},
   "outputs": [],
   "source": [
    "mean = np.mean(data)\n",
    "std_dev = np.std(data)\n",
    "k = 3  # Number of standard deviations for outlier detection\n",
    "lower_bound_sd = mean - k * std_dev\n",
    "upper_bound_sd = mean + k * std_dev"
   ]
  },
  {
   "cell_type": "code",
   "execution_count": null,
   "id": "8701dcc2",
   "metadata": {},
   "outputs": [],
   "source": [
    "# Identify outliers based on standard deviation\n",
    "outliers_sd = [x for x in data if x < lower_bound_sd or x > upper_bound_sd]\n",
    "\n",
    "print(f\"Mean: {mean}, Standard Deviation: {std_dev}\")\n",
    "print(f\"Lower bound (3 std dev): {lower_bound_sd}, Upper bound (3 std dev): {upper_bound_sd}\")\n",
    "print(f\"Outliers (Standard Deviation method): {outliers_sd}\")\n"
   ]
  },
  {
   "cell_type": "code",
   "execution_count": null,
   "id": "8071cfba",
   "metadata": {},
   "outputs": [],
   "source": []
  },
  {
   "cell_type": "code",
   "execution_count": null,
   "id": "a4b97c2b",
   "metadata": {},
   "outputs": [],
   "source": [
    "\n"
   ]
  },
  {
   "cell_type": "code",
   "execution_count": null,
   "id": "40b06f4d",
   "metadata": {},
   "outputs": [],
   "source": []
  }
 ],
 "metadata": {
  "kernelspec": {
   "display_name": "Python 3 (ipykernel)",
   "language": "python",
   "name": "python3"
  },
  "language_info": {
   "codemirror_mode": {
    "name": "ipython",
    "version": 3
   },
   "file_extension": ".py",
   "mimetype": "text/x-python",
   "name": "python",
   "nbconvert_exporter": "python",
   "pygments_lexer": "ipython3",
   "version": "3.11.5"
  }
 },
 "nbformat": 4,
 "nbformat_minor": 5
}
